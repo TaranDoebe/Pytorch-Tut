{
  "nbformat": 4,
  "nbformat_minor": 0,
  "metadata": {
    "colab": {
      "provenance": [],
      "authorship_tag": "ABX9TyNKyVX+fvRQOqcwROawZJM6",
      "include_colab_link": true
    },
    "kernelspec": {
      "name": "python3",
      "display_name": "Python 3"
    },
    "language_info": {
      "name": "python"
    }
  },
  "cells": [
    {
      "cell_type": "markdown",
      "metadata": {
        "id": "view-in-github",
        "colab_type": "text"
      },
      "source": [
        "<a href=\"https://colab.research.google.com/github/TaranDoebe/Pytorch-Tut/blob/main/Tensors.ipynb\" target=\"_parent\"><img src=\"https://colab.research.google.com/assets/colab-badge.svg\" alt=\"Open In Colab\"/></a>"
      ]
    },
    {
      "cell_type": "markdown",
      "source": [
        "# **TENSORS**\n",
        "\n",
        "\n",
        "\n",
        "*   A torch. Tensor is a multi-dimensional matrix containing elements of a single data type.\n",
        "*   Similar to NUmpy Arrays, but full of things that make them work better on GPU's\n",
        "* default data type of float32\n",
        "* More suitable for deep learning than a numpy array.\n",
        "\n",
        "\n"
      ],
      "metadata": {
        "id": "ftshl5DhdFIx"
      }
    },
    {
      "cell_type": "code",
      "execution_count": 1,
      "metadata": {
        "id": "tAH4oAyZdB4P"
      },
      "outputs": [],
      "source": [
        "import torch\n",
        "import numpy as np\n"
      ]
    },
    {
      "cell_type": "markdown",
      "source": [
        "# **Lists**"
      ],
      "metadata": {
        "id": "a8i3isRldfyD"
      }
    },
    {
      "cell_type": "code",
      "source": [
        "my_list = [[1,2,3,4], [6,7,8,9]]\n",
        "my_list"
      ],
      "metadata": {
        "colab": {
          "base_uri": "https://localhost:8080/"
        },
        "id": "hxgQ9gRPdePb",
        "outputId": "6d9bf175-2ae0-4044-f5fe-cd9be2b93d52"
      },
      "execution_count": 3,
      "outputs": [
        {
          "output_type": "execute_result",
          "data": {
            "text/plain": [
              "[[1, 2, 3, 4], [6, 7, 8, 9]]"
            ]
          },
          "metadata": {},
          "execution_count": 3
        }
      ]
    },
    {
      "cell_type": "markdown",
      "source": [
        "# **NP Array**"
      ],
      "metadata": {
        "id": "RHculmgHdoo_"
      }
    },
    {
      "cell_type": "code",
      "source": [
        "np1 = np.random.rand(3,4)\n",
        "np1"
      ],
      "metadata": {
        "colab": {
          "base_uri": "https://localhost:8080/"
        },
        "id": "GxxgY0j-d304",
        "outputId": "4c7a492e-c22b-4c2e-fb67-991fb6b20ec4"
      },
      "execution_count": 4,
      "outputs": [
        {
          "output_type": "execute_result",
          "data": {
            "text/plain": [
              "array([[0.51827944, 0.77397053, 0.04286666, 0.30019428],\n",
              "       [0.53180743, 0.05598237, 0.6893015 , 0.79718007],\n",
              "       [0.74352787, 0.71077785, 0.84625605, 0.58999082]])"
            ]
          },
          "metadata": {},
          "execution_count": 4
        }
      ]
    },
    {
      "cell_type": "code",
      "source": [
        "np1.dtype"
      ],
      "metadata": {
        "colab": {
          "base_uri": "https://localhost:8080/"
        },
        "id": "HlYS_P-9eJAM",
        "outputId": "0460b236-2e64-4cb5-daf5-4ba0332351f1"
      },
      "execution_count": 5,
      "outputs": [
        {
          "output_type": "execute_result",
          "data": {
            "text/plain": [
              "dtype('float64')"
            ]
          },
          "metadata": {},
          "execution_count": 5
        }
      ]
    },
    {
      "cell_type": "markdown",
      "source": [
        "# **Tensors**"
      ],
      "metadata": {
        "id": "WBsVB_wcd0Jr"
      }
    },
    {
      "cell_type": "code",
      "source": [
        "tensor_2d = torch.randn(3,4)\n",
        "tensor_2d"
      ],
      "metadata": {
        "colab": {
          "base_uri": "https://localhost:8080/"
        },
        "id": "bocSMYspeMkk",
        "outputId": "a89fbb1e-bf8f-4173-d5a0-ced06d93986d"
      },
      "execution_count": 7,
      "outputs": [
        {
          "output_type": "execute_result",
          "data": {
            "text/plain": [
              "tensor([[ 0.8440, -0.2299,  0.2471, -1.1853],\n",
              "        [-0.4974, -0.2748, -0.8236,  0.1871],\n",
              "        [ 0.3262, -0.7401,  0.0204,  0.4837]])"
            ]
          },
          "metadata": {},
          "execution_count": 7
        }
      ]
    },
    {
      "cell_type": "code",
      "source": [
        "tensor_3d = torch.zeros(2,3,4)\n",
        "tensor_3d"
      ],
      "metadata": {
        "colab": {
          "base_uri": "https://localhost:8080/"
        },
        "id": "J-Cr-AQZeNnp",
        "outputId": "76be0bb7-239e-41e7-a5e4-a1da577e51cc"
      },
      "execution_count": 8,
      "outputs": [
        {
          "output_type": "execute_result",
          "data": {
            "text/plain": [
              "tensor([[[0., 0., 0., 0.],\n",
              "         [0., 0., 0., 0.],\n",
              "         [0., 0., 0., 0.]],\n",
              "\n",
              "        [[0., 0., 0., 0.],\n",
              "         [0., 0., 0., 0.],\n",
              "         [0., 0., 0., 0.]]])"
            ]
          },
          "metadata": {},
          "execution_count": 8
        }
      ]
    },
    {
      "cell_type": "code",
      "source": [
        "## Create tensor out of np array\n",
        "\n",
        "my_tensor = torch.tensor(np1)\n",
        "my_tensor"
      ],
      "metadata": {
        "colab": {
          "base_uri": "https://localhost:8080/"
        },
        "id": "6sZOhZfjemIy",
        "outputId": "1fdf29fe-d66d-4b5d-e198-b5bb6850ef07"
      },
      "execution_count": 9,
      "outputs": [
        {
          "output_type": "execute_result",
          "data": {
            "text/plain": [
              "tensor([[0.5183, 0.7740, 0.0429, 0.3002],\n",
              "        [0.5318, 0.0560, 0.6893, 0.7972],\n",
              "        [0.7435, 0.7108, 0.8463, 0.5900]], dtype=torch.float64)"
            ]
          },
          "metadata": {},
          "execution_count": 9
        }
      ]
    }
  ]
}